{
 "cells": [
  {
   "cell_type": "markdown",
   "metadata": {},
   "source": [
    "# Multiple Linear Regression"
   ]
  },
  {
   "cell_type": "code",
   "execution_count": 1,
   "metadata": {},
   "outputs": [],
   "source": [
    "import numpy as np\n",
    "import pandas as pd "
   ]
  },
  {
   "cell_type": "code",
   "execution_count": 2,
   "metadata": {},
   "outputs": [],
   "source": [
    "# Importing the dataset\n",
    "dataset = pd.read_csv(r'C:\\Users\\LENOVO\\Ardent ML\\Employee_Data.csv')"
   ]
  },
  {
   "cell_type": "code",
   "execution_count": 4,
   "metadata": {},
   "outputs": [
    {
     "data": {
      "text/html": [
       "<div>\n",
       "<style scoped>\n",
       "    .dataframe tbody tr th:only-of-type {\n",
       "        vertical-align: middle;\n",
       "    }\n",
       "\n",
       "    .dataframe tbody tr th {\n",
       "        vertical-align: top;\n",
       "    }\n",
       "\n",
       "    .dataframe thead th {\n",
       "        text-align: right;\n",
       "    }\n",
       "</style>\n",
       "<table border=\"1\" class=\"dataframe\">\n",
       "  <thead>\n",
       "    <tr style=\"text-align: right;\">\n",
       "      <th></th>\n",
       "      <th>Depatment</th>\n",
       "      <th>WorkedHours</th>\n",
       "      <th>Certification</th>\n",
       "      <th>YearsExperience</th>\n",
       "      <th>Salary</th>\n",
       "    </tr>\n",
       "  </thead>\n",
       "  <tbody>\n",
       "    <tr>\n",
       "      <th>0</th>\n",
       "      <td>Development</td>\n",
       "      <td>2300</td>\n",
       "      <td>0</td>\n",
       "      <td>1.1</td>\n",
       "      <td>39343</td>\n",
       "    </tr>\n",
       "    <tr>\n",
       "      <th>1</th>\n",
       "      <td>Testing</td>\n",
       "      <td>2100</td>\n",
       "      <td>1</td>\n",
       "      <td>1.3</td>\n",
       "      <td>46205</td>\n",
       "    </tr>\n",
       "    <tr>\n",
       "      <th>2</th>\n",
       "      <td>Development</td>\n",
       "      <td>2104</td>\n",
       "      <td>2</td>\n",
       "      <td>1.5</td>\n",
       "      <td>37731</td>\n",
       "    </tr>\n",
       "    <tr>\n",
       "      <th>3</th>\n",
       "      <td>UX Designer</td>\n",
       "      <td>1200</td>\n",
       "      <td>1</td>\n",
       "      <td>2.0</td>\n",
       "      <td>43525</td>\n",
       "    </tr>\n",
       "    <tr>\n",
       "      <th>4</th>\n",
       "      <td>Testing</td>\n",
       "      <td>1254</td>\n",
       "      <td>2</td>\n",
       "      <td>2.2</td>\n",
       "      <td>39891</td>\n",
       "    </tr>\n",
       "  </tbody>\n",
       "</table>\n",
       "</div>"
      ],
      "text/plain": [
       "     Depatment  WorkedHours  Certification  YearsExperience  Salary\n",
       "0  Development         2300              0              1.1   39343\n",
       "1      Testing         2100              1              1.3   46205\n",
       "2  Development         2104              2              1.5   37731\n",
       "3  UX Designer         1200              1              2.0   43525\n",
       "4      Testing         1254              2              2.2   39891"
      ]
     },
     "execution_count": 4,
     "metadata": {},
     "output_type": "execute_result"
    }
   ],
   "source": [
    "dataset.head()"
   ]
  },
  {
   "cell_type": "code",
   "execution_count": 5,
   "metadata": {},
   "outputs": [],
   "source": [
    "X = dataset.iloc[:, :4].values\n",
    "y = dataset.iloc[:, 4].values"
   ]
  },
  {
   "cell_type": "code",
   "execution_count": 7,
   "metadata": {},
   "outputs": [
    {
     "data": {
      "text/plain": [
       "array([['Development', 2300, 0, 1.1],\n",
       "       ['Testing', 2100, 1, 1.3],\n",
       "       ['Development', 2104, 2, 1.5],\n",
       "       ['UX Designer', 1200, 1, 2.0],\n",
       "       ['Testing', 1254, 2, 2.2],\n",
       "       ['UX Designer', 1236, 1, 2.9],\n",
       "       ['Development', 1452, 2, 3.0],\n",
       "       ['Testing', 1789, 1, 3.2],\n",
       "       ['UX Designer', 1645, 1, 3.2],\n",
       "       ['UX Designer', 1258, 0, 3.7],\n",
       "       ['Testing', 1478, 3, 3.9],\n",
       "       ['Development', 1257, 2, 4.0],\n",
       "       ['Development', 1596, 1, 4.0],\n",
       "       ['Testing', 1256, 2, 4.1],\n",
       "       ['UX Designer', 1489, 3, 4.5],\n",
       "       ['Development', 1236, 3, 4.9],\n",
       "       ['Testing', 2311, 2, 5.1],\n",
       "       ['UX Designer', 2245, 3, 5.3],\n",
       "       ['Development', 2365, 1, 5.9],\n",
       "       ['Development', 1500, 3, 6.0],\n",
       "       ['Testing', 1456, 2, 6.8],\n",
       "       ['Testing', 1760, 1, 7.1],\n",
       "       ['UX Designer', 2400, 4, 7.9],\n",
       "       ['Development', 2148, 3, 8.2],\n",
       "       ['UX Designer', 1450, 2, 8.7],\n",
       "       ['UX Designer', 1000, 4, 9.0],\n",
       "       ['Testing', 1540, 3, 9.5],\n",
       "       ['Development', 1500, 2, 9.6],\n",
       "       ['Testing', 3000, 4, 10.3],\n",
       "       ['UX Designer', 2100, 3, 10.5]], dtype=object)"
      ]
     },
     "execution_count": 7,
     "metadata": {},
     "output_type": "execute_result"
    }
   ],
   "source": [
    "X"
   ]
  },
  {
   "cell_type": "code",
   "execution_count": 8,
   "metadata": {},
   "outputs": [
    {
     "data": {
      "text/plain": [
       "array([ 39343,  46205,  37731,  43525,  39891,  56642,  60150,  54445,\n",
       "        64445,  57189,  63218,  55794,  56957,  57081,  61111,  67938,\n",
       "        66029,  83088,  81363,  93940,  91738,  98273, 101302, 113812,\n",
       "       109431, 105582, 116969, 112635, 122391, 121872], dtype=int64)"
      ]
     },
     "execution_count": 8,
     "metadata": {},
     "output_type": "execute_result"
    }
   ],
   "source": [
    "y"
   ]
  },
  {
   "cell_type": "code",
   "execution_count": 9,
   "metadata": {},
   "outputs": [
    {
     "name": "stdout",
     "output_type": "stream",
     "text": [
      "[[0 2300 0 1.1]\n",
      " [1 2100 1 1.3]\n",
      " [0 2104 2 1.5]\n",
      " [2 1200 1 2.0]\n",
      " [1 1254 2 2.2]\n",
      " [2 1236 1 2.9]\n",
      " [0 1452 2 3.0]\n",
      " [1 1789 1 3.2]\n",
      " [2 1645 1 3.2]\n",
      " [2 1258 0 3.7]\n",
      " [1 1478 3 3.9]\n",
      " [0 1257 2 4.0]\n",
      " [0 1596 1 4.0]\n",
      " [1 1256 2 4.1]\n",
      " [2 1489 3 4.5]\n",
      " [0 1236 3 4.9]\n",
      " [1 2311 2 5.1]\n",
      " [2 2245 3 5.3]\n",
      " [0 2365 1 5.9]\n",
      " [0 1500 3 6.0]\n",
      " [1 1456 2 6.8]\n",
      " [1 1760 1 7.1]\n",
      " [2 2400 4 7.9]\n",
      " [0 2148 3 8.2]\n",
      " [2 1450 2 8.7]\n",
      " [2 1000 4 9.0]\n",
      " [1 1540 3 9.5]\n",
      " [0 1500 2 9.6]\n",
      " [1 3000 4 10.3]\n",
      " [2 2100 3 10.5]]\n"
     ]
    }
   ],
   "source": [
    "#Encoding categorical data\n",
    "#Doing Label Encoding\n",
    "from sklearn.preprocessing import LabelEncoder\n",
    "labelencoder = LabelEncoder()\n",
    "\n",
    "X[:, 0] = labelencoder.fit_transform(X[:, 0])\n",
    "print(X)"
   ]
  },
  {
   "cell_type": "code",
   "execution_count": 10,
   "metadata": {},
   "outputs": [],
   "source": [
    "from sklearn.model_selection import train_test_split\n",
    "X_train, X_test, y_train, y_test =train_test_split(X, y,test_size = .25, random_state = 42) "
   ]
  },
  {
   "cell_type": "code",
   "execution_count": 11,
   "metadata": {},
   "outputs": [],
   "source": [
    "from sklearn.linear_model import LinearRegression\n",
    "regressor = LinearRegression()\n",
    "regressor.fit(X_train, y_train)\n",
    "y_pred=regressor.predict(X_test)"
   ]
  },
  {
   "cell_type": "markdown",
   "metadata": {},
   "source": [
    "## R2 score"
   ]
  },
  {
   "cell_type": "markdown",
   "metadata": {},
   "source": [
    "Return the coefficient of determination R^2 \n",
    "of the prediction. The coefficient R^2 is defined\n",
    " as (1 - u/v), where u is the residual sum of \n",
    " squares ((y_test - y_pred) ** 2).sum() and v is \n",
    " the total sum of squares\n",
    " ((y_test - y_test.mean()) ** 2).sum(). \n",
    " The best possible score is 1.0 and it can be\n",
    " negative (because the model can be arbitrarily worse).\n",
    " A constant model that always predicts the expected\n",
    " value of y, disregarding the input features, \n",
    " would get a R^2 score of 0.0."
   ]
  },
  {
   "cell_type": "code",
   "execution_count": 12,
   "metadata": {},
   "outputs": [
    {
     "name": "stdout",
     "output_type": "stream",
     "text": [
      "Accuracy= 1.0\n"
     ]
    }
   ],
   "source": [
    "accuracy = (regressor.score(X_test,y_pred))\n",
    "print(\"Accuracy=\",accuracy)"
   ]
  },
  {
   "cell_type": "code",
   "execution_count": 14,
   "metadata": {},
   "outputs": [
    {
     "name": "stdout",
     "output_type": "stream",
     "text": [
      "Error: 6277.253591090725\n"
     ]
    }
   ],
   "source": [
    "from sklearn import metrics\n",
    "print(\"Error:\",np.sqrt(metrics.mean_squared_error(y_test,y_pred)))"
   ]
  },
  {
   "cell_type": "code",
   "execution_count": 15,
   "metadata": {},
   "outputs": [
    {
     "name": "stdout",
     "output_type": "stream",
     "text": [
      "result [38068.35199995]\n"
     ]
    }
   ],
   "source": [
    "print(\"result\",regressor.predict(np.array([0, 2300, 0, 1.1]).reshape(1,4)))\n"
   ]
  },
  {
   "cell_type": "code",
   "execution_count": 16,
   "metadata": {},
   "outputs": [
    {
     "name": "stdout",
     "output_type": "stream",
     "text": [
      "result2 [37074.50056017]\n"
     ]
    }
   ],
   "source": [
    "print(\"result2\",regressor.predict([[1, 2300, 0, 1.1]]))\n"
   ]
  },
  {
   "cell_type": "code",
   "execution_count": null,
   "metadata": {},
   "outputs": [],
   "source": []
  }
 ],
 "metadata": {
  "kernelspec": {
   "display_name": "Python 3",
   "language": "python",
   "name": "python3"
  },
  "language_info": {
   "codemirror_mode": {
    "name": "ipython",
    "version": 3
   },
   "file_extension": ".py",
   "mimetype": "text/x-python",
   "name": "python",
   "nbconvert_exporter": "python",
   "pygments_lexer": "ipython3",
   "version": "3.7.3"
  }
 },
 "nbformat": 4,
 "nbformat_minor": 2
}
